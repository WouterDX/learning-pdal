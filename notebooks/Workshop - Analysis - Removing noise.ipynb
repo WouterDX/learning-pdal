{
 "cells": [
  {
   "cell_type": "markdown",
   "metadata": {},
   "source": [
    "# Removing noise\n",
    "This exercise uses PDAL to remove unwanted noise in an ALS collection.\n",
    "\n",
    "## Exercise\n",
    "PDAL provides the outlier filter to apply a statistical filter to data.\n",
    "\n",
    "Because this operation is somewhat complex, we are going to use a pipeline to define it."
   ]
  },
  {
   "cell_type": "code",
   "execution_count": 1,
   "metadata": {
    "collapsed": true
   },
   "outputs": [],
   "source": [
    "%matplotlib inline\n",
    "\n",
    "import matplotlib.pyplot as plt\n",
    "import pdal"
   ]
  },
  {
   "cell_type": "markdown",
   "metadata": {},
   "source": [
    "## Pipeline breakdown\n",
    "\n",
    "### 1. Reader\n",
    "\n",
    "### 2. filters.outlier\n",
    "The PDAL outlier filter does most of the work for this operation.\n",
    "\n",
    "```json\n",
    "{\n",
    "  \"type\": \"filters.outlier\",\n",
    "  \"method\": \"statistical\",\n",
    "  \"multiplier\": 3,\n",
    "  \"mean_k\": 8\n",
    "},\n",
    "```"
   ]
  },
  {
   "cell_type": "code",
   "execution_count": 2,
   "metadata": {},
   "outputs": [
    {
     "name": "stdout",
     "output_type": "stream",
     "text": [
      "(pypipeline filters.outlier Debug) \t\tLabeled 241 outliers as noise!\n",
      "(pypipeline writers.las Debug) Wrote 37769 points to the LAS file\n",
      "\n"
     ]
    }
   ],
   "source": [
    "json = u'''\n",
    "{\n",
    "  \"pipeline\":[\n",
    "    \"./data/isprs/samp11-utm.laz\",\n",
    "    {\n",
    "      \"type\": \"filters.outlier\",\n",
    "      \"method\": \"statistical\",\n",
    "      \"multiplier\": 3,\n",
    "      \"mean_k\": 8\n",
    "    },\n",
    "    {\n",
    "      \"type\": \"filters.range\",\n",
    "      \"limits\": \"Classification![7:7],Z[-100:3000]\"\n",
    "    },\n",
    "    {\n",
    "      \"type\": \"writers.las\",\n",
    "      \"compression\": \"true\",\n",
    "      \"minor_version\": \"2\",\n",
    "      \"dataformat_id\": \"0\",\n",
    "      \"filename\":\"./clean.laz\"\n",
    "    }\n",
    "  ]\n",
    "}'''\n",
    "\n",
    "p = pdal.Pipeline(json)\n",
    "p.validate()\n",
    "p.loglevel = 8\n",
    "count = p.execute()\n",
    "log = p.log\n",
    "print(log)"
   ]
  },
  {
   "cell_type": "code",
   "execution_count": null,
   "metadata": {
    "collapsed": true
   },
   "outputs": [],
   "source": []
  }
 ],
 "metadata": {
  "kernelspec": {
   "display_name": "Python 2",
   "language": "python",
   "name": "python2"
  },
  "language_info": {
   "codemirror_mode": {
    "name": "ipython",
    "version": 2
   },
   "file_extension": ".py",
   "mimetype": "text/x-python",
   "name": "python",
   "nbconvert_exporter": "python",
   "pygments_lexer": "ipython2",
   "version": "2.7.12"
  }
 },
 "nbformat": 4,
 "nbformat_minor": 2
}
