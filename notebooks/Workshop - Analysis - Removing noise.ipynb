{
 "cells": [
  {
   "cell_type": "markdown",
   "metadata": {},
   "source": [
    "# Removing noise\n",
    "This exercise uses PDAL to remove unwanted noise in an ALS collection.\n",
    "\n",
    "## Exercise\n",
    "PDAL provides the outlier filter to apply a statistical filter to data.\n",
    "\n",
    "Because this operation is somewhat complex, we are going to use a pipeline to define it."
   ]
  },
  {
   "cell_type": "code",
   "execution_count": 7,
   "metadata": {
    "collapsed": true
   },
   "outputs": [],
   "source": [
    "%matplotlib inline\n",
    "\n",
    "import os\n",
    "import sys\n",
    "\n",
    "import matplotlib.pyplot as plt\n",
    "import pdal\n",
    "from six.moves.urllib.request import urlretrieve"
   ]
  },
  {
   "cell_type": "markdown",
   "metadata": {},
   "source": [
    "If you've run the previous tutorials, then you probably already have the data, but if not, this will download some sample data."
   ]
  },
  {
   "cell_type": "code",
   "execution_count": 8,
   "metadata": {},
   "outputs": [
    {
     "name": "stdout",
     "output_type": "stream",
     "text": [
      "('Found and verified', './samp11-utm.laz')\n"
     ]
    }
   ],
   "source": [
    "url = 'https://github.com/PDAL/data/raw/master/isprs/'\n",
    "last_percent_reported = None\n",
    "data_root = '.' # Change me to store data elsewhere\n",
    "\n",
    "def download_progress_hook(count, blockSize, totalSize):\n",
    "  \"\"\"A hook to report the progress of a download. This is mostly intended for users with\n",
    "  slow internet connections. Reports every 5% change in download progress.\n",
    "  \"\"\"\n",
    "  global last_percent_reported\n",
    "  percent = int(count * blockSize * 100 / totalSize)\n",
    "\n",
    "  if last_percent_reported != percent:\n",
    "    if percent % 5 == 0:\n",
    "      sys.stdout.write(\"%s%%\" % percent)\n",
    "      sys.stdout.flush()\n",
    "    else:\n",
    "      sys.stdout.write(\".\")\n",
    "      sys.stdout.flush()\n",
    "      \n",
    "    last_percent_reported = percent\n",
    "        \n",
    "def maybe_download(filename, expected_bytes, force=False):\n",
    "  \"\"\"Download a file if not present, and make sure it's the right size.\"\"\"\n",
    "  dest_filename = os.path.join(data_root, filename)\n",
    "  if force or not os.path.exists(dest_filename):\n",
    "    print('Attempting to download:', filename) \n",
    "    filename, _ = urlretrieve(url + filename, dest_filename, reporthook=download_progress_hook)\n",
    "    print('\\nDownload Complete!')\n",
    "  statinfo = os.stat(dest_filename)\n",
    "  if statinfo.st_size == expected_bytes:\n",
    "    print('Found and verified', dest_filename)\n",
    "  else:\n",
    "    raise Exception(\n",
    "      'Failed to verify ' + dest_filename + '. Can you get to it with a browser?')\n",
    "  return dest_filename\n",
    "\n",
    "pc_filename = maybe_download('samp11-utm.laz', 99563)\n",
    "# pc_filename = maybe_download('CSite1_orig-utm.laz', 4539968)"
   ]
  },
  {
   "cell_type": "markdown",
   "metadata": {},
   "source": [
    "## Pipeline breakdown\n",
    "\n",
    "### 1. Reader\n",
    "\n",
    "### 2. filters.outlier\n",
    "The PDAL outlier filter does most of the work for this operation.\n",
    "\n",
    "```json\n",
    "{\n",
    "  \"type\": \"filters.outlier\",\n",
    "  \"method\": \"statistical\",\n",
    "  \"multiplier\": 3,\n",
    "  \"mean_k\": 8\n",
    "},\n",
    "```"
   ]
  },
  {
   "cell_type": "code",
   "execution_count": 9,
   "metadata": {},
   "outputs": [
    {
     "name": "stdout",
     "output_type": "stream",
     "text": [
      "(pypipeline filters.outlier Debug) \t\tLabeled 241 outliers as noise!\n",
      "(pypipeline writers.las Debug) Wrote 37769 points to the LAS file\n",
      "\n"
     ]
    }
   ],
   "source": [
    "json = u'''\n",
    "{\n",
    "  \"pipeline\":[\n",
    "    \"%s\",\n",
    "    {\n",
    "      \"type\": \"filters.outlier\",\n",
    "      \"method\": \"statistical\",\n",
    "      \"multiplier\": 3,\n",
    "      \"mean_k\": 8\n",
    "    },\n",
    "    {\n",
    "      \"type\": \"filters.range\",\n",
    "      \"limits\": \"Classification![7:7],Z[-100:3000]\"\n",
    "    },\n",
    "    {\n",
    "      \"type\": \"writers.las\",\n",
    "      \"compression\": \"true\",\n",
    "      \"minor_version\": \"2\",\n",
    "      \"dataformat_id\": \"0\",\n",
    "      \"filename\":\"./clean.laz\"\n",
    "    }\n",
    "  ]\n",
    "}''' % pc_filename\n",
    "\n",
    "p = pdal.Pipeline(json)\n",
    "p.validate()\n",
    "p.loglevel = 8\n",
    "count = p.execute()\n",
    "log = p.log\n",
    "print(log)"
   ]
  },
  {
   "cell_type": "code",
   "execution_count": null,
   "metadata": {
    "collapsed": true
   },
   "outputs": [],
   "source": []
  }
 ],
 "metadata": {
  "kernelspec": {
   "display_name": "Python 2",
   "language": "python",
   "name": "python2"
  },
  "language_info": {
   "codemirror_mode": {
    "name": "ipython",
    "version": 2
   },
   "file_extension": ".py",
   "mimetype": "text/x-python",
   "name": "python",
   "nbconvert_exporter": "python",
   "pygments_lexer": "ipython2",
   "version": "2.7.12"
  }
 },
 "nbformat": 4,
 "nbformat_minor": 2
}
