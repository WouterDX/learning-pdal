{
 "cells": [
  {
   "cell_type": "markdown",
   "metadata": {},
   "source": [
    "# Removing noise\n",
    "This exercise uses PDAL to remove unwanted noise in an ALS collection.\n",
    "\n",
    "## Exercise\n",
    "PDAL provides the outlier filter to apply a statistical filter to data.\n",
    "\n",
    "Because this operation is somewhat complex, we are going to use a pipeline to define it."
   ]
  },
  {
   "cell_type": "code",
   "execution_count": 15,
   "metadata": {
    "collapsed": true
   },
   "outputs": [],
   "source": [
    "%matplotlib inline\n",
    "\n",
    "import os\n",
    "import sys\n",
    "\n",
    "import matplotlib.pyplot as plt\n",
    "import pdal\n",
    "import numpy as np\n",
    "from sklearn.neighbors.kde import KernelDensity\n",
    "from six.moves.urllib.request import urlretrieve"
   ]
  },
  {
   "cell_type": "markdown",
   "metadata": {},
   "source": [
    "If you've run the previous tutorials, then you probably already have the data, but if not, this will download some sample data."
   ]
  },
  {
   "cell_type": "code",
   "execution_count": 8,
   "metadata": {},
   "outputs": [
    {
     "name": "stdout",
     "output_type": "stream",
     "text": [
      "('Found and verified', './samp11-utm.laz')\n"
     ]
    }
   ],
   "source": [
    "url = 'https://github.com/PDAL/data/raw/master/isprs/'\n",
    "last_percent_reported = None\n",
    "data_root = '.' # Change me to store data elsewhere\n",
    "\n",
    "def download_progress_hook(count, blockSize, totalSize):\n",
    "  \"\"\"A hook to report the progress of a download. This is mostly intended for users with\n",
    "  slow internet connections. Reports every 5% change in download progress.\n",
    "  \"\"\"\n",
    "  global last_percent_reported\n",
    "  percent = int(count * blockSize * 100 / totalSize)\n",
    "\n",
    "  if last_percent_reported != percent:\n",
    "    if percent % 5 == 0:\n",
    "      sys.stdout.write(\"%s%%\" % percent)\n",
    "      sys.stdout.flush()\n",
    "    else:\n",
    "      sys.stdout.write(\".\")\n",
    "      sys.stdout.flush()\n",
    "      \n",
    "    last_percent_reported = percent\n",
    "        \n",
    "def maybe_download(filename, expected_bytes, force=False):\n",
    "  \"\"\"Download a file if not present, and make sure it's the right size.\"\"\"\n",
    "  dest_filename = os.path.join(data_root, filename)\n",
    "  if force or not os.path.exists(dest_filename):\n",
    "    print('Attempting to download:', filename) \n",
    "    filename, _ = urlretrieve(url + filename, dest_filename, reporthook=download_progress_hook)\n",
    "    print('\\nDownload Complete!')\n",
    "  statinfo = os.stat(dest_filename)\n",
    "  if statinfo.st_size == expected_bytes:\n",
    "    print('Found and verified', dest_filename)\n",
    "  else:\n",
    "    raise Exception(\n",
    "      'Failed to verify ' + dest_filename + '. Can you get to it with a browser?')\n",
    "  return dest_filename\n",
    "\n",
    "pc_filename = maybe_download('samp11-utm.laz', 99563)\n",
    "# pc_filename = maybe_download('CSite1_orig-utm.laz', 4539968)"
   ]
  },
  {
   "cell_type": "markdown",
   "metadata": {},
   "source": [
    "## Pipeline breakdown\n",
    "\n",
    "### 1. Reader\n",
    "\n",
    "### 2. filters.outlier\n",
    "The PDAL outlier filter does most of the work for this operation.\n",
    "\n",
    "```json\n",
    "{\n",
    "  \"type\": \"filters.outlier\",\n",
    "  \"method\": \"statistical\",\n",
    "  \"multiplier\": 3,\n",
    "  \"mean_k\": 8\n",
    "},\n",
    "```"
   ]
  },
  {
   "cell_type": "code",
   "execution_count": 3,
   "metadata": {},
   "outputs": [
    {
     "name": "stdout",
     "output_type": "stream",
     "text": [
      "\n"
     ]
    }
   ],
   "source": [
    "pc_filename='./S1C1_csd_004.csd'\n",
    "json = u'''\n",
    "{\n",
    "  \"pipeline\":[\n",
    "    \"%s\"\n",
    "  ]\n",
    "}''' % pc_filename\n",
    "\n",
    "p = pdal.Pipeline(json)\n",
    "p.validate()\n",
    "p.loglevel = 8\n",
    "count = p.execute()\n",
    "log = p.log\n",
    "print(log)"
   ]
  },
  {
   "cell_type": "code",
   "execution_count": 4,
   "metadata": {},
   "outputs": [
    {
     "name": "stdout",
     "output_type": "stream",
     "text": [
      "7418613\n"
     ]
    }
   ],
   "source": [
    "print(count)"
   ]
  },
  {
   "cell_type": "code",
   "execution_count": 6,
   "metadata": {},
   "outputs": [],
   "source": [
    "data = p.arrays[0]"
   ]
  },
  {
   "cell_type": "code",
   "execution_count": 7,
   "metadata": {},
   "outputs": [
    {
     "data": {
      "text/plain": [
       "(u'X',\n",
       " u'Y',\n",
       " u'Z',\n",
       " u'GpsTime',\n",
       " u'ReturnNumber',\n",
       " u'NumberOfReturns',\n",
       " u'EchoRange',\n",
       " u'Intensity',\n",
       " u'ScanAngleRank')"
      ]
     },
     "execution_count": 7,
     "metadata": {},
     "output_type": "execute_result"
    }
   ],
   "source": [
    "data.dtype.names"
   ]
  },
  {
   "cell_type": "code",
   "execution_count": 8,
   "metadata": {
    "collapsed": true
   },
   "outputs": [],
   "source": [
    "def dim_kde(arr, lb, ub, n=500, bw=0.25, k='epanechnikov'):\n",
    "    f = plt.figure()\n",
    "    xp = np.linspace(lb, ub, n)[:, np.newaxis]\n",
    "    kde = KernelDensity(kernel=k, bandwidth=bw).fit(arr[:, np.newaxis])\n",
    "    log_pdf = kde.score_samples(xp)\n",
    "    # We add a few lines here to identify the peak of the KDE and report its location and magnitude.\n",
    "    ind = np.argmax(np.exp(log_pdf))\n",
    "    print(np.exp(log_pdf)[ind],xp[ind])\n",
    "    ax = f.add_subplot(111)\n",
    "    ax.plot(xp, np.exp(log_pdf))"
   ]
  },
  {
   "cell_type": "code",
   "execution_count": 12,
   "metadata": {},
   "outputs": [
    {
     "data": {
      "text/plain": [
       "(0, 15794, 162.79404775528795)"
      ]
     },
     "execution_count": 12,
     "metadata": {},
     "output_type": "execute_result"
    }
   ],
   "source": [
    "data['Intensity'].min(), data['Intensity'].max(), data['Intensity'].mean()"
   ]
  },
  {
   "cell_type": "code",
   "execution_count": 19,
   "metadata": {},
   "outputs": [
    {
     "name": "stdout",
     "output_type": "stream",
     "text": [
      "(0.0070375580929971353, array([ 173.62626263]))\n"
     ]
    },
    {
     "data": {
      "image/png": "[encoded data removed]",
      "text/plain": [
       "<matplotlib.figure.Figure at 0x7ff6f463acd0>"
      ]
     },
     "metadata": {},
     "output_type": "display_data"
    }
   ],
   "source": [
    "dim_kde(data['Intensity'], 11, 333, n=100, bw=1.0)"
   ]
  },
  {
   "cell_type": "code",
   "execution_count": 18,
   "metadata": {},
   "outputs": [
    {
     "data": {
      "text/plain": [
       "11.0"
      ]
     },
     "execution_count": 18,
     "metadata": {},
     "output_type": "execute_result"
    }
   ],
   "source": [
    "np.percentile(data['Intensity'],2)"
   ]
  },
  {
   "cell_type": "code",
   "execution_count": 20,
   "metadata": {},
   "outputs": [
    {
     "name": "stdout",
     "output_type": "stream",
     "text": [
      "(7272482, '\\n', u'(pypipeline writers.las Debug) Wrote 7272482 points to the LAS file\\n')\n"
     ]
    }
   ],
   "source": [
    "pc_filename='./S1C1_csd_004.csd'\n",
    "json = u'''\n",
    "{\n",
    "  \"pipeline\":[\n",
    "    \"%s\",\n",
    "    {\n",
    "      \"type\":\"filters.reprojection\",\n",
    "      \"out_srs\":\"EPSG:32614\"\n",
    "    },\n",
    "    {\n",
    "      \"type\":\"filters.range\",\n",
    "      \"limits\":\"Intensity[:333]\"\n",
    "    },\n",
    "    \"./S1C1_csd_004.laz\"\n",
    "  ]\n",
    "}''' % pc_filename\n",
    "\n",
    "p = pdal.Pipeline(json)\n",
    "p.validate()\n",
    "p.loglevel = 8\n",
    "count = p.execute()\n",
    "log = p.log\n",
    "print(count,'\\n',log)"
   ]
  },
  {
   "cell_type": "code",
   "execution_count": 21,
   "metadata": {},
   "outputs": [
    {
     "data": {
      "text/plain": [
       "(-97.996626850103326, -97.992172153347468, -97.994376680737219)"
      ]
     },
     "execution_count": 21,
     "metadata": {},
     "output_type": "execute_result"
    }
   ],
   "source": [
    "data2 = p.arrays[0]"
   ]
  },
  {
   "cell_type": "code",
   "execution_count": 22,
   "metadata": {},
   "outputs": [
    {
     "data": {
      "text/plain": [
       "(596817.36393247196, 597271.79786267015, 597049.09491513984)"
      ]
     },
     "execution_count": 22,
     "metadata": {},
     "output_type": "execute_result"
    }
   ],
   "source": [
    "data2['X'].min(), data2['X'].max(), data2['X'].mean()"
   ]
  },
  {
   "cell_type": "code",
   "execution_count": null,
   "metadata": {
    "collapsed": true
   },
   "outputs": [],
   "source": []
  }
 ],
 "metadata": {
  "kernelspec": {
   "display_name": "Python 2",
   "language": "python",
   "name": "python2"
  },
  "language_info": {
   "codemirror_mode": {
    "name": "ipython",
    "version": 2
   },
   "file_extension": ".py",
   "mimetype": "text/x-python",
   "name": "python",
   "nbconvert_exporter": "python",
   "pygments_lexer": "ipython2",
   "version": "2.7.12"
  }
 },
 "nbformat": 4,
 "nbformat_minor": 2
}
