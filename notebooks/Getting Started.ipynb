{
 "cells": [
  {
   "cell_type": "markdown",
   "metadata": {},
   "source": [
    "# A Gentle Introduction to PDAL\n",
    "Hopefully you've arrived here by starting the Docker container. By doing so, you've already installed the prerequisites and should have no issues stepping through the remainder of the notebooks.\n",
    "\n",
    "We start by importing some packages that are required to download our sample data, and create and execute a simple PDAL pipeline that reads the point cloud into a Numpy `ndarray`."
   ]
  },
  {
   "cell_type": "code",
   "execution_count": 1,
   "metadata": {
    "collapsed": true
   },
   "outputs": [],
   "source": [
    "from __future__ import print_function\n",
    "\n",
    "import pdal"
   ]
  },
  {
   "cell_type": "markdown",
   "metadata": {},
   "source": [
    "Next, we create our first, very simply pipeline. It specifies only the path to the input data we wish to read. In later tutorials, we will expand on the pipeline, adding filters."
   ]
  },
  {
   "cell_type": "code",
   "execution_count": 2,
   "metadata": {
    "collapsed": true
   },
   "outputs": [],
   "source": [
    "json = u'''\n",
    "{\n",
    "  \"pipeline\":[\n",
    "    \"./data/isprs/samp11-utm.laz\"\n",
    "  ]\n",
    "}'''"
   ]
  },
  {
   "cell_type": "markdown",
   "metadata": {},
   "source": [
    "Create the pipeline, check that it's valid, and execute it. We check that we have read the expected number of points and number of dimensions."
   ]
  },
  {
   "cell_type": "code",
   "execution_count": 3,
   "metadata": {},
   "outputs": [
    {
     "name": "stdout",
     "output_type": "stream",
     "text": [
      "Read 38010 points with 12 dimensions\n",
      "Dimension names are (u'X', u'Y', u'Z', u'Intensity', u'ReturnNumber', u'NumberOfReturns', u'ScanDirectionFlag', u'EdgeOfFlightLine', u'Classification', u'ScanAngleRank', u'UserData', u'PointSourceId')\n"
     ]
    }
   ],
   "source": [
    "p = pdal.Pipeline(json)\n",
    "p.validate() # check if our JSON and options were good\n",
    "p.loglevel = 8 #really noisy\n",
    "count = p.execute()\n",
    "data = p.arrays[0]\n",
    "metadata = p.metadata\n",
    "log = p.log\n",
    "print('Read', count, 'points with', len(data.dtype), 'dimensions')\n",
    "print('Dimension names are', data.dtype.names)"
   ]
  },
  {
   "cell_type": "code",
   "execution_count": null,
   "metadata": {
    "collapsed": true
   },
   "outputs": [],
   "source": []
  }
 ],
 "metadata": {
  "kernelspec": {
   "display_name": "Python 2",
   "language": "python",
   "name": "python2"
  },
  "language_info": {
   "codemirror_mode": {
    "name": "ipython",
    "version": 2
   },
   "file_extension": ".py",
   "mimetype": "text/x-python",
   "name": "python",
   "nbconvert_exporter": "python",
   "pygments_lexer": "ipython2",
   "version": "2.7.12"
  }
 },
 "nbformat": 4,
 "nbformat_minor": 2
}
