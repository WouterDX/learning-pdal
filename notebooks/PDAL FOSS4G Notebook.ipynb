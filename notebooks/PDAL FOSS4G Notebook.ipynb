{
 "cells": [
  {
   "cell_type": "code",
   "execution_count": 1,
   "metadata": {
    "collapsed": true
   },
   "outputs": [],
   "source": [
    "%matplotlib inline\n",
    "\n",
    "import os\n",
    "import sys\n",
    "\n",
    "import matplotlib.pyplot as plt\n",
    "import numpy as np\n",
    "import pdal\n",
    "from sklearn.neighbors.kde import KernelDensity\n",
    "from six.moves.urllib.request import urlretrieve"
   ]
  },
  {
   "cell_type": "code",
   "execution_count": 2,
   "metadata": {},
   "outputs": [
    {
     "name": "stdout",
     "output_type": "stream",
     "text": [
      "('Found and verified', './samp11-utm.laz')\n"
     ]
    }
   ],
   "source": [
    "url = 'https://github.com/PDAL/data/raw/master/isprs/'\n",
    "last_percent_reported = None\n",
    "data_root = '.' # Change me to store data elsewhere\n",
    "\n",
    "def download_progress_hook(count, blockSize, totalSize):\n",
    "  \"\"\"A hook to report the progress of a download. This is mostly intended for users with\n",
    "  slow internet connections. Reports every 5% change in download progress.\n",
    "  \"\"\"\n",
    "  global last_percent_reported\n",
    "  percent = int(count * blockSize * 100 / totalSize)\n",
    "\n",
    "  if last_percent_reported != percent:\n",
    "    if percent % 5 == 0:\n",
    "      sys.stdout.write(\"%s%%\" % percent)\n",
    "      sys.stdout.flush()\n",
    "    else:\n",
    "      sys.stdout.write(\".\")\n",
    "      sys.stdout.flush()\n",
    "      \n",
    "    last_percent_reported = percent\n",
    "        \n",
    "def maybe_download(filename, expected_bytes, force=False):\n",
    "  \"\"\"Download a file if not present, and make sure it's the right size.\"\"\"\n",
    "  dest_filename = os.path.join(data_root, filename)\n",
    "  if force or not os.path.exists(dest_filename):\n",
    "    print('Attempting to download:', filename) \n",
    "    filename, _ = urlretrieve(url + filename, dest_filename, reporthook=download_progress_hook)\n",
    "    print('\\nDownload Complete!')\n",
    "  statinfo = os.stat(dest_filename)\n",
    "  if statinfo.st_size == expected_bytes:\n",
    "    print('Found and verified', dest_filename)\n",
    "  else:\n",
    "    raise Exception(\n",
    "      'Failed to verify ' + dest_filename + '. Can you get to it with a browser?')\n",
    "  return dest_filename\n",
    "\n",
    "pc_filename = maybe_download('samp11-utm.laz', 99563)"
   ]
  },
  {
   "cell_type": "code",
   "execution_count": 3,
   "metadata": {
    "collapsed": true
   },
   "outputs": [],
   "source": [
    "json = u'''\n",
    "{\n",
    "  \"pipeline\":[\n",
    "    \"%s\",\n",
    "    {\n",
    "      \"type\":\"filters.eigenvalues\"\n",
    "    },\n",
    "    {\n",
    "      \"type\":\"filters.lof\"\n",
    "    },\n",
    "    {\n",
    "      \"type\":\"filters.normal\"\n",
    "    },\n",
    "    {\n",
    "      \"type\":\"filters.radialdensity\"\n",
    "    }\n",
    "  ]\n",
    "}''' % pc_filename"
   ]
  },
  {
   "cell_type": "code",
   "execution_count": 4,
   "metadata": {
    "collapsed": true
   },
   "outputs": [],
   "source": [
    "def dim_kde(arr, lb, ub):\n",
    "    xp = np.linspace(lb, ub, 500)[:, np.newaxis]\n",
    "    kde = KernelDensity(kernel='epanechnikov', bandwidth=0.25).fit(arr[:, np.newaxis])\n",
    "    log_pdf = kde.score_samples(xp)\n",
    "    plt.plot(xp, np.exp(log_pdf))"
   ]
  },
  {
   "cell_type": "code",
   "execution_count": 5,
   "metadata": {
    "collapsed": true
   },
   "outputs": [],
   "source": [
    "def dim_kde_full(arr, n=500, bw=0.25, k='epanechnikov'):\n",
    "    xp = np.linspace(arr.min(), arr.max(), n)[:, np.newaxis]\n",
    "    kde = KernelDensity(kernel=k, bandwidth=bw).fit(arr[:, np.newaxis])\n",
    "    log_pdf = kde.score_samples(xp)\n",
    "    plt.plot(xp, np.exp(log_pdf))"
   ]
  },
  {
   "cell_type": "code",
   "execution_count": 6,
   "metadata": {
    "collapsed": true
   },
   "outputs": [],
   "source": [
    "def dim_kde_mad(arr):\n",
    "    m1, m2 = mad(arr)\n",
    "    lb = m1 - 2*m2\n",
    "    ub = m1 + 2*m2\n",
    "    xp = np.linspace(lb, ub, 500)[:, np.newaxis]\n",
    "    kde = KernelDensity(kernel='epanechnikov', bandwidth=0.25).fit(arr[:, np.newaxis])\n",
    "    log_pdf = kde.score_samples(xp)\n",
    "    plt.plot(xp, np.exp(log_pdf))"
   ]
  },
  {
   "cell_type": "code",
   "execution_count": 7,
   "metadata": {
    "collapsed": true
   },
   "outputs": [],
   "source": [
    "def dim_kde_std(arr):\n",
    "    m1, m2 = arr.mean(), arr.std()\n",
    "    lb = m1 - 2*m2\n",
    "    ub = m1 + 2*m2\n",
    "    xp = np.linspace(lb, ub, 500)[:, np.newaxis]\n",
    "    kde = KernelDensity(kernel='epanechnikov', bandwidth=0.25).fit(arr[:, np.newaxis])\n",
    "    log_pdf = kde.score_samples(xp)\n",
    "    plt.plot(xp, np.exp(log_pdf))"
   ]
  },
  {
   "cell_type": "code",
   "execution_count": 8,
   "metadata": {
    "collapsed": true
   },
   "outputs": [],
   "source": [
    "def dim_kde_twoper(arr):\n",
    "    lb = np.percentile(arr,2)\n",
    "    ub = np.percentile(arr,98)\n",
    "    xp = np.linspace(lb, ub, 500)[:, np.newaxis]\n",
    "    kde = KernelDensity(kernel='epanechnikov', bandwidth=0.25).fit(arr[:, np.newaxis])\n",
    "    log_pdf = kde.score_samples(xp)\n",
    "    plt.plot(xp, np.exp(log_pdf))"
   ]
  },
  {
   "cell_type": "code",
   "execution_count": 9,
   "metadata": {
    "collapsed": true
   },
   "outputs": [],
   "source": [
    "def mad(arr):\n",
    "    arr = np.ma.array(arr).compressed()\n",
    "    med = np.median(arr)\n",
    "    return med, np.median(np.abs(arr-med))"
   ]
  },
  {
   "cell_type": "code",
   "execution_count": 10,
   "metadata": {
    "collapsed": true
   },
   "outputs": [],
   "source": [
    "p = pdal.Pipeline(json)\n",
    "p.validate()\n",
    "count = p.execute()\n",
    "data = p.arrays[0]"
   ]
  },
  {
   "cell_type": "code",
   "execution_count": 11,
   "metadata": {},
   "outputs": [
    {
     "data": {
      "text/plain": [
       "(u'X',\n",
       " u'Y',\n",
       " u'Z',\n",
       " u'Intensity',\n",
       " u'ReturnNumber',\n",
       " u'NumberOfReturns',\n",
       " u'ScanDirectionFlag',\n",
       " u'EdgeOfFlightLine',\n",
       " u'Classification',\n",
       " u'ScanAngleRank',\n",
       " u'UserData',\n",
       " u'PointSourceId',\n",
       " u'Eigenvalue0',\n",
       " u'Eigenvalue1',\n",
       " u'Eigenvalue2',\n",
       " u'KDistance',\n",
       " u'LocalReachabilityDistance',\n",
       " u'LocalOutlierFactor',\n",
       " u'NormalX',\n",
       " u'NormalY',\n",
       " u'NormalZ',\n",
       " u'Curvature',\n",
       " u'RadialDensity')"
      ]
     },
     "execution_count": 11,
     "metadata": {},
     "output_type": "execute_result"
    }
   ],
   "source": [
    "data.dtype.names"
   ]
  },
  {
   "cell_type": "code",
   "execution_count": 12,
   "metadata": {},
   "outputs": [
    {
     "data": {
      "image/png": "[encoded data removed]",
      "text/plain": [
       "<matplotlib.figure.Figure at 0x7f3ab3c118d0>"
      ]
     },
     "metadata": {},
     "output_type": "display_data"
    }
   ],
   "source": [
    "dim_kde_std(np.abs(data['NormalZ']))"
   ]
  },
  {
   "cell_type": "code",
   "execution_count": 13,
   "metadata": {},
   "outputs": [
    {
     "data": {
      "image/png": "[encoded data removed]",
      "text/plain": [
       "<matplotlib.figure.Figure at 0x7f3b06c81350>"
      ]
     },
     "metadata": {},
     "output_type": "display_data"
    }
   ],
   "source": [
    "dim_kde_mad(np.abs(data['NormalZ']))"
   ]
  },
  {
   "cell_type": "code",
   "execution_count": 14,
   "metadata": {},
   "outputs": [
    {
     "data": {
      "image/png": "[encoded data removed]",
      "text/plain": [
       "<matplotlib.figure.Figure at 0x7f3b0060b4d0>"
      ]
     },
     "metadata": {},
     "output_type": "display_data"
    }
   ],
   "source": [
    "dim_kde_twoper(np.abs(data['NormalZ']))"
   ]
  },
  {
   "cell_type": "code",
   "execution_count": 15,
   "metadata": {},
   "outputs": [
    {
     "data": {
      "image/png": "[encoded data removed]",
      "text/plain": [
       "<matplotlib.figure.Figure at 0x7f3ab25b5550>"
      ]
     },
     "metadata": {},
     "output_type": "display_data"
    }
   ],
   "source": [
    "dim_kde_full(np.abs(data['NormalZ']), n=1000)"
   ]
  },
  {
   "cell_type": "code",
   "execution_count": null,
   "metadata": {
    "collapsed": true
   },
   "outputs": [],
   "source": []
  }
 ],
 "metadata": {
  "kernelspec": {
   "display_name": "Python 2",
   "language": "python",
   "name": "python2"
  },
  "language_info": {
   "codemirror_mode": {
    "name": "ipython",
    "version": 2
   },
   "file_extension": ".py",
   "mimetype": "text/x-python",
   "name": "python",
   "nbconvert_exporter": "python",
   "pygments_lexer": "ipython2",
   "version": "2.7.12"
  }
 },
 "nbformat": 4,
 "nbformat_minor": 2
}
